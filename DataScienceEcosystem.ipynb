{
 "cells": [
  {
   "cell_type": "markdown",
   "id": "8ea00a61-50bb-4d55-a8a8-0e815bd3b72a",
   "metadata": {},
   "source": [
    "# Data Science Tools and Ecosystem\n"
   ]
  },
  {
   "cell_type": "markdown",
   "id": "cbedf248-4bd1-494f-b22a-0791d6d47b0d",
   "metadata": {},
   "source": [
    "In this notebook, Data Science Tools and Ecosystems are summarized."
   ]
  },
  {
   "cell_type": "markdown",
   "id": "3f349a47-6b0f-4154-98c4-932d8554481b",
   "metadata": {},
   "source": [
    "Objectives:\n",
    "- List of popular languages for Data Science\n",
    "- Commonly used libraries for Data Science\n",
    "- Some common tools used in Data Science\n",
    "- Examples of arithemtic express in Python\n"
   ]
  },
  {
   "cell_type": "markdown",
   "id": "09d36e53-e39d-4c0a-b8e7-809792a43227",
   "metadata": {},
   "source": [
    "Some of the popular languages that Data Scientists use are:\n",
    "1. Python\n",
    "2. R\n",
    "3. SQL"
   ]
  },
  {
   "cell_type": "markdown",
   "id": "38559c71-a3e1-4c06-a2db-68e493aef767",
   "metadata": {},
   "source": [
    "Some of the commonly used libraries used by Data Scientists include:\n",
    "1. NumPy\n",
    "2. Pandas\n",
    "3. Matplotlib"
   ]
  },
  {
   "cell_type": "markdown",
   "id": "7138774d-6906-4fb0-955d-536101d23d9d",
   "metadata": {},
   "source": [
    "| Data Science Tools |\n",
    "| :------------------|\n",
    "| Jupyter Notebooks |\n",
    "| R Studio |\n",
    "| TensorFlow.js |"
   ]
  },
  {
   "cell_type": "markdown",
   "id": "8046e7ef-9c27-4db1-a411-fa48481574cf",
   "metadata": {},
   "source": [
    "### Below are a few examples of evaluating arithmetic expressions in Python"
   ]
  },
  {
   "cell_type": "code",
   "execution_count": 2,
   "id": "2857ec8c-3aa7-44ff-9f9f-0ab53fc59c2b",
   "metadata": {},
   "outputs": [
    {
     "data": {
      "text/plain": [
       "17"
      ]
     },
     "execution_count": 2,
     "metadata": {},
     "output_type": "execute_result"
    }
   ],
   "source": [
    "(3*4)+5"
   ]
  },
  {
   "cell_type": "code",
   "execution_count": 9,
   "id": "4b7352b9-6d08-4632-aaf4-b87565845bdb",
   "metadata": {},
   "outputs": [
    {
     "name": "stdout",
     "output_type": "stream",
     "text": [
      "This will convert 200 minutes to hours by dividing by 60\n"
     ]
    },
    {
     "data": {
      "text/plain": [
       "3.3333333333333335"
      ]
     },
     "execution_count": 9,
     "metadata": {},
     "output_type": "execute_result"
    }
   ],
   "source": [
    "print('This will convert 200 minutes to hours by dividing by 60')\n",
    "(200/60)"
   ]
  },
  {
   "cell_type": "markdown",
   "id": "2cfe80e6-e157-4476-874d-b97c939aa5f0",
   "metadata": {},
   "source": [
    "## Author\n",
    "Stephen Lund"
   ]
  },
  {
   "cell_type": "code",
   "execution_count": null,
   "id": "723d6221-374d-4d3d-8637-118a81b0afb9",
   "metadata": {},
   "outputs": [],
   "source": []
  }
 ],
 "metadata": {
  "kernelspec": {
   "display_name": "anaconda-panel-2023.05-py310",
   "language": "python",
   "name": "conda-env-anaconda-panel-2023.05-py310-py"
  },
  "language_info": {
   "codemirror_mode": {
    "name": "ipython",
    "version": 3
   },
   "file_extension": ".py",
   "mimetype": "text/x-python",
   "name": "python",
   "nbconvert_exporter": "python",
   "pygments_lexer": "ipython3",
   "version": "3.11.5"
  }
 },
 "nbformat": 4,
 "nbformat_minor": 5
}
